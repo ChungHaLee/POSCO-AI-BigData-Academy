{
 "cells": [
  {
   "cell_type": "markdown",
   "metadata": {},
   "source": [
    "#### 데이터 구조를 정할 때, 빈번하게 삽입과 삭제가 일어난다면(런타입이 불분명) 고정되어있으면 안 된다.\n",
    "#### 따라서, 데이터의 자료형과 구조, 알고리즘을 데이터의 성질에 맞게 정리하는 것이 중요하다."
   ]
  },
  {
   "cell_type": "markdown",
   "metadata": {},
   "source": [
    "## 추상 데이터 타입(Abstract Data Type: ADT)\n",
    "### : 데이터의 자료형을 추상적으로 직접 정의한 것\n",
    "\n",
    "#### ADT 개념은 자료구조, 알고리즘에 사용, 객체 지향 프로그래밍에 영향\n",
    "#### 캡슐화(Encapsulation) = 데이터를 보호하기 위해 다른 객체의 접근을 제한하는 접근 제한\n",
    "#### 캡슐화는 프로그래밍 언어에서 '클래스(Class)' 개념으로 정리되었다."
   ]
  },
  {
   "cell_type": "markdown",
   "metadata": {},
   "source": [
    "## 클래스(Class) - 객체 지향 프로그래밍\n",
    "### : 클래스는 객체를 생성하는 Data Type(자료형을 결정함) 역할을 수행한다. = 클래스\n",
    "#### 서로 다른 자료형을 묶어서 한꺼번에 선언(클래스) --> 특정 타입의 객체가 생성되면 그 객체 = '인스턴스'라고 부른다.\n",
    "#### = 클래스로부터 객체가 생성되고, 이 객체는 데이터와 함수를 같이 가지고 있다."
   ]
  },
  {
   "cell_type": "code",
   "execution_count": 12,
   "metadata": {},
   "outputs": [
    {
     "name": "stdout",
     "output_type": "stream",
     "text": [
      "자동차1의 색상은 빨강이며 속력은 30km입니다.\n"
     ]
    }
   ],
   "source": [
    "class Car:\n",
    "    # 자동차의 필드\n",
    "    color = \"\"\n",
    "    speed = 0\n",
    "    # 자동차의 생성자 함수 __init__ : 내가 부르지 않아도 객체를 생성하면 자동으로 불려짐, 메서드에 대한 정보를 기억하는 함수\n",
    "    def __init__(self, color='None', speed = 0):\n",
    "        self.color = color  # 여기에 초기화 할 코드를 입력\n",
    "        self.speed = speed\n",
    "        \n",
    "    # 자동차의 메서드 : 예시로 자동차의 속력을 높여주는 함수.\n",
    "    def upSpeed(self, value):\n",
    "        self.speed += value\n",
    "        \n",
    "myCar1 = Car()\n",
    "myCar1.color = \"빨강\"\n",
    "myCar1.upSpeed(30)  # upSpeed 의 역할: 함수로 속력을 높여줌. 그리고 원래 자동차의 speed 에 넣어줌.\n",
    "print('자동차1의 색상은 %s이며 속력은 %dkm입니다.'%(myCar1.color,myCar1.speed))"
   ]
  }
 ],
 "metadata": {
  "kernelspec": {
   "display_name": "Python 3",
   "language": "python",
   "name": "python3"
  },
  "language_info": {
   "codemirror_mode": {
    "name": "ipython",
    "version": 3
   },
   "file_extension": ".py",
   "mimetype": "text/x-python",
   "name": "python",
   "nbconvert_exporter": "python",
   "pygments_lexer": "ipython3",
   "version": "3.7.6"
  }
 },
 "nbformat": 4,
 "nbformat_minor": 4
}
