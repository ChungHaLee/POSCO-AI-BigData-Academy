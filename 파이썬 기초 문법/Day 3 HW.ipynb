{
 "cells": [
  {
   "cell_type": "markdown",
   "metadata": {},
   "source": [
    "### 2일차 12번 문제) 평균, 최댓값, 최솟값 구하기"
   ]
  },
  {
   "cell_type": "code",
   "execution_count": 43,
   "metadata": {},
   "outputs": [
    {
     "name": "stdout",
     "output_type": "stream",
     "text": [
      "Enter a number:7\n",
      "Enter a number:2\n",
      "Enter a number:9\n",
      "Enter a number:3\n",
      "Enter a number:5\n",
      "Enter a number:done\n",
      "평균: 5.2 최댓값: 9 최솟값: 2\n"
     ]
    }
   ],
   "source": [
    "num_lst = []\n",
    "sum = 0\n",
    "\n",
    "while True:   # while True 의 정확한 기능이 뭐임..?\n",
    "    number = input(\"Enter a number:\")\n",
    "    if number == 'done':\n",
    "        break\n",
    "    num_lst.append(int(number))\n",
    "\n",
    "for i in num_lst:\n",
    "    sum += i\n",
    "    \n",
    "average = sum / len(num_lst)\n",
    "maximum = max(num_lst)\n",
    "minimum = min(num_lst)\n",
    "\n",
    "print('평균:', average, '최댓값:', maximum, '최솟값:', minimum)"
   ]
  },
  {
   "cell_type": "markdown",
   "metadata": {},
   "source": [
    "## 기초 실습 3"
   ]
  },
  {
   "cell_type": "markdown",
   "metadata": {},
   "source": [
    "### 실습 1) for 문을 사용하여 딕셔너리 타입의 d의 모든 value 를 출력해보시오."
   ]
  },
  {
   "cell_type": "code",
   "execution_count": 6,
   "metadata": {},
   "outputs": [
    {
     "name": "stdout",
     "output_type": "stream",
     "text": [
      "1 2 10 "
     ]
    }
   ],
   "source": [
    "d = {'yoon':1, 'park':2, 'kim':10}\n",
    "\n",
    "for k, v in d.items():\n",
    "    print(d[k], end=' ')"
   ]
  },
  {
   "cell_type": "markdown",
   "metadata": {},
   "source": [
    "### 실습 2) key의 알파벳을 기준으로 순서대로 아래와 같이 (key, value)로 출력하시오."
   ]
  },
  {
   "cell_type": "code",
   "execution_count": 33,
   "metadata": {},
   "outputs": [
    {
     "name": "stdout",
     "output_type": "stream",
     "text": [
      "five 5 \n",
      "four 4 \n",
      "one 1 \n",
      "three 3 \n",
      "two 2 \n"
     ]
    }
   ],
   "source": [
    "dic = {'one':1, 'two':2, 'three':3, 'four':4, 'five':5}\n",
    "dic_new = sorted(dic.items())\n",
    "\n",
    "for i in range(len(dic_new)):\n",
    "    for j in range(len(dic_new[i])):\n",
    "        print(dic_new[i][j], end=' ')\n",
    "    print()"
   ]
  },
  {
   "cell_type": "markdown",
   "metadata": {},
   "source": [
    "### 실습 3) 어떤 문장을 입력 받으면 해당 문장에서 각 알파벳이 몇 개씩 나오는지 저장하는 딕셔너리를 만든 후, 아래와 같이 출력하시오."
   ]
  },
  {
   "cell_type": "code",
   "execution_count": 45,
   "metadata": {},
   "outputs": [
    {
     "name": "stdout",
     "output_type": "stream",
     "text": [
      "Enter a sentence:Python is fun!\n",
      "{'P': 1, 'y': 1, 't': 1, 'h': 1, 'o': 1, 'n': 2, ' ': 2, 'i': 1, 's': 1, 'f': 1, 'u': 1, '!': 1}\n"
     ]
    }
   ],
   "source": [
    "# 풀이 1\n",
    "\n",
    "sentence = input(\"Enter a sentence:\")\n",
    "d = {}\n",
    "\n",
    "for i in sentence:\n",
    "    if i in d:\n",
    "        d[i] += 1\n",
    "    else:\n",
    "        d[i] = 1\n",
    "print(d)"
   ]
  },
  {
   "cell_type": "code",
   "execution_count": 48,
   "metadata": {},
   "outputs": [
    {
     "data": {
      "text/plain": [
       "{'H': 1, 'e': 1, 'l': 2, 'o': 1}"
      ]
     },
     "execution_count": 48,
     "metadata": {},
     "output_type": "execute_result"
    }
   ],
   "source": [
    "# 풀이 2\n",
    "\n",
    "sen = \"Hello\"\n",
    "dic = dict()\n",
    "for ch in sen:\n",
    "    if ch in dic:\n",
    "        dic[ch] += 1\n",
    "    else:\n",
    "        dic[ch] = 1\n",
    "    \n",
    "dic "
   ]
  },
  {
   "cell_type": "code",
   "execution_count": 53,
   "metadata": {},
   "outputs": [
    {
     "data": {
      "text/plain": [
       "{'H': 1, 'e': 1, 'l': 5, 'o': 1}"
      ]
     },
     "execution_count": 53,
     "metadata": {},
     "output_type": "execute_result"
    }
   ],
   "source": [
    "# 풀이 3\n",
    "\n",
    "sen = 'Helllllo'\n",
    "dic = dict()\n",
    "sen_set = set(sen)\n",
    "\n",
    "for ch in sen_set:  # sen 을 집합으로 만들어서 접근하는게 더 효율적(질문을 1번만 함)\n",
    "    dic[ch] = sen.count(ch)\n",
    "dic"
   ]
  },
  {
   "cell_type": "markdown",
   "metadata": {},
   "source": [
    "## 파일에서 데이터 읽기"
   ]
  },
  {
   "cell_type": "markdown",
   "metadata": {},
   "source": [
    "#### 필요성:\n",
    "#### 파일을 연다 --> 파일에서 데이터를 읽거나 쓴다 --> 파일을 닫는다"
   ]
  },
  {
   "cell_type": "code",
   "execution_count": null,
   "metadata": {},
   "outputs": [],
   "source": [
    "f = open(\"input.txt\", 'r') # f는 파일 객체이며, 파일에서 데이터를 읽거나(read) 쓴다(write)\n",
    "f.close() # 파일 닫기"
   ]
  },
  {
   "cell_type": "code",
   "execution_count": 67,
   "metadata": {},
   "outputs": [],
   "source": [
    "# 파일에 쓰기\n",
    "\n",
    "fw = open(\"new.txt\", 'w')\n",
    "for i in range(1, 6):\n",
    "    data = \"%d line\\n\" % i\n",
    "    fw.write(data)   # write() 함수 = 내가 쓰고 싶은 문자열의 형태를 넘겨줌\n",
    "fw.close()"
   ]
  },
  {
   "cell_type": "code",
   "execution_count": 68,
   "metadata": {},
   "outputs": [],
   "source": [
    "# 파일을 읽기\n",
    "\n",
    "fr = open(\"new.txt\", 'r')\n",
    "\n",
    "\n",
    "# fr.close()"
   ]
  },
  {
   "cell_type": "code",
   "execution_count": 69,
   "metadata": {},
   "outputs": [
    {
     "data": {
      "text/plain": [
       "'1 line\\n'"
      ]
     },
     "execution_count": 69,
     "metadata": {},
     "output_type": "execute_result"
    }
   ],
   "source": [
    "line = fr.readline()  # 빈 문자열이 아닐 때까지 readline()\n",
    "line"
   ]
  },
  {
   "cell_type": "code",
   "execution_count": 70,
   "metadata": {},
   "outputs": [
    {
     "data": {
      "text/plain": [
       "['2 line\\n', '3 line\\n', '4 line\\n', '5 line\\n']"
      ]
     },
     "execution_count": 70,
     "metadata": {},
     "output_type": "execute_result"
    }
   ],
   "source": [
    "res = fr.readlines()  # 모든 라인을 한꺼번에 읽어서 각각의 줄을 요소로 갖는 리스트를 반환.\n",
    "res"
   ]
  },
  {
   "cell_type": "code",
   "execution_count": 72,
   "metadata": {},
   "outputs": [
    {
     "name": "stdout",
     "output_type": "stream",
     "text": [
      "1 line\n",
      "\n",
      "2 line\n",
      "\n",
      "3 line\n",
      "\n",
      "4 line\n",
      "\n",
      "5 line\n",
      "\n"
     ]
    }
   ],
   "source": [
    "fr = open('new.txt', 'r')\n",
    "for line in fr:\n",
    "    print(line)"
   ]
  },
  {
   "cell_type": "code",
   "execution_count": null,
   "metadata": {},
   "outputs": [],
   "source": [
    "fr.tell()"
   ]
  },
  {
   "cell_type": "code",
   "execution_count": null,
   "metadata": {},
   "outputs": [],
   "source": [
    "fr.seek()"
   ]
  },
  {
   "cell_type": "markdown",
   "metadata": {},
   "source": [
    "## 기초 실습 4"
   ]
  },
  {
   "cell_type": "markdown",
   "metadata": {},
   "source": [
    "### 실습 1) 파일에 있는 각각의 단어 수 구하기."
   ]
  },
  {
   "cell_type": "code",
   "execution_count": 126,
   "metadata": {},
   "outputs": [
    {
     "name": "stdout",
     "output_type": "stream",
     "text": [
      "line 3\n",
      "first 1\n",
      "second 1\n",
      "third 1\n"
     ]
    }
   ],
   "source": [
    "fr = open('test1.txt', 'r')\n",
    "res = fr.readlines()\n",
    "dic = dict()\n",
    "\n",
    "for i in res:\n",
    "    i = i.split()\n",
    "    for words in i:   # split 한 각 i의 원소에 대해 접근\n",
    "        if words in dic:\n",
    "            dic[words] += 1\n",
    "        else:\n",
    "            dic[words] = 1\n",
    "\n",
    "dic_new = sorted(dic.items(), key=lambda x: x[1], reverse=True)\n",
    "\n",
    "for k, v in dic_new:\n",
    "    print(k, v)"
   ]
  }
 ],
 "metadata": {
  "kernelspec": {
   "display_name": "Python 3",
   "language": "python",
   "name": "python3"
  },
  "language_info": {
   "codemirror_mode": {
    "name": "ipython",
    "version": 3
   },
   "file_extension": ".py",
   "mimetype": "text/x-python",
   "name": "python",
   "nbconvert_exporter": "python",
   "pygments_lexer": "ipython3",
   "version": "3.7.6"
  }
 },
 "nbformat": 4,
 "nbformat_minor": 4
}
