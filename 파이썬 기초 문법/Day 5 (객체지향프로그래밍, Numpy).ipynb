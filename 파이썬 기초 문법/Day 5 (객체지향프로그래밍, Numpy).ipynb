{
 "cells": [
  {
   "cell_type": "markdown",
   "metadata": {},
   "source": [
    "## 객체지향 프로그래밍(Object-Oriented Programming)과 클래스"
   ]
  },
  {
   "cell_type": "code",
   "execution_count": 17,
   "metadata": {},
   "outputs": [
    {
     "name": "stdout",
     "output_type": "stream",
     "text": [
      "잔고가 부족합니다. 잔액= 500\n",
      "이체 성공. 잔액= 0\n"
     ]
    }
   ],
   "source": [
    "## 실습 1)\n",
    "class Account:\n",
    "    def __init__(self, number, rate=0.01):\n",
    "        self.number = number\n",
    "        self.balance = 0\n",
    "        self.rate = rate\n",
    "        \n",
    "    def deposit(self, amount):  # 입금\n",
    "        self.balance += amount\n",
    "    \n",
    "    def withdraw(self, amount):  # 출금\n",
    "        if amount <= self.balance:\n",
    "            self.balance -= amount\n",
    "    \n",
    "    def obtain_interest(self):  # 이자 획득\n",
    "        self.balance += self.balance + self.rate\n",
    "        \n",
    "    def transfer(self, other, amount):  # 이체\n",
    "         if self.balance < amount:\n",
    "                print('잔고가 부족합니다. 잔액=', self.balance)\n",
    "        \n",
    "         else:\n",
    "            self.withdraw(amount)  # withdraw 메서드 사용하기 = 송금\n",
    "            other.deposit(amount)  # deposit 메서드 사용하기 = 입금\n",
    "            print('이체 성공. 잔액=', self.balance)\n",
    "            \n",
    "        \n",
    "acc1 = Account(1001)\n",
    "acc2 = Account(1002)\n",
    "acc3 = Account(1003)\n",
    "\n",
    "acc1.deposit(500)\n",
    "acc2.deposit(1000)\n",
    "\n",
    "acc1.transfer(acc2, 1000)\n",
    "acc2.transfer(acc1, 1000)"
   ]
  },
  {
   "cell_type": "markdown",
   "metadata": {},
   "source": [
    "## 클래스 상속(Inheritance)"
   ]
  },
  {
   "cell_type": "markdown",
   "metadata": {},
   "source": [
    "### 부모 클래스의 메서드를 자식 클래스가 상속하는 것."
   ]
  },
  {
   "cell_type": "markdown",
   "metadata": {},
   "source": [
    "## 상속 관련 개념 = 메서드 오버라이딩 & 연산자 오버로딩"
   ]
  },
  {
   "cell_type": "markdown",
   "metadata": {},
   "source": [
    "### 1) 메서드 오버라이딩: 상속 관계에서 상위 클래스의 메서드를 하위 클래스에서 재정의. (오버라이딩 = 적재)\n",
    "#### 오버라이딩의 조건: 메서드의 이름을 동일하게 지정, 그러나 하위 클래스에서 이름만 빌리고 재정의(변경) 하는 것.\n",
    "#### ex) 'Car'의 속력 올리기 메서드가 최대 150으로 지정되어있는데 승용차의 경우 속도의 제한이 필요해서 속도 올리기 함수에 변경이 있을 때 사용."
   ]
  },
  {
   "cell_type": "code",
   "execution_count": null,
   "metadata": {},
   "outputs": [],
   "source": [
    "class Car:\n",
    "    speed = 0\n",
    "    def upSpeed(self, value):   # upSpeed 함수 정의(부모 클래스)\n",
    "        self.speed += value\n",
    "        \n",
    "\n",
    "class Sedan(Car):\n",
    "    def upSpeed(self, value):   # upSpeed 함수 동일한 함수명으로 재정의 (자식 클래스)\n",
    "        self.speed += value\n",
    "        if self.speed > 150:\n",
    "            self.speed = 150"
   ]
  },
  {
   "cell_type": "markdown",
   "metadata": {},
   "source": [
    "### 2) 연산자 오버로딩: 객체를 연산하기 위해 필요한 연산자를 내장 타입의 형태와 동작이 유사하도록 재정의\n",
    "#### 연산자 중복을 위해 두 개의 밑줄 문자가 앞 뒤로 있는 메서드를 클래스 내부에 미리 정의하는 것. (왜?: 객체 연산을 하기 위해서 연산자 정의 필요)\n",
    "#### ex) 내가 클래스를 활용해서 객체끼리 수치 연산을 하고 싶으면 연산자 오버로딩을 통해 연산자를 다시 재정의 해주어야 한다는 말임."
   ]
  },
  {
   "cell_type": "markdown",
   "metadata": {},
   "source": [
    "#### 피연산자의 순서가 바뀐 경우에는 , 앞에 'r'을 붙여서 '__radd__'로 메서드를 정의한다.\n",
    "\n",
    "#### __add__ = __radd__"
   ]
  },
  {
   "cell_type": "markdown",
   "metadata": {},
   "source": [
    "### cf. Polymorphism (다형성)\n",
    "#### : 상속 관계 간의 다른 클래스들의 인스턴스가 같은 멤버 함수 호출에 대해 각각 다르게 반응하도록 함\n",
    "#### = 이것이 메서드 오버라이딩, 연산자 오버로딩을 가능하게 하는 기능임.\n",
    "#### ex) 강아지의 'sound' = '멍멍', 고양이의 'sound' = '야옹'"
   ]
  },
  {
   "cell_type": "markdown",
   "metadata": {},
   "source": [
    "## Appendix(부록)"
   ]
  },
  {
   "cell_type": "code",
   "execution_count": 90,
   "metadata": {},
   "outputs": [
    {
     "name": "stdout",
     "output_type": "stream",
     "text": [
      "93924566987808\n",
      "140463545145520\n",
      "<class 'int'>\n",
      "<class 'str'>\n"
     ]
    }
   ],
   "source": [
    "a = 10\n",
    "b = 'Hello World!'\n",
    "print(id(a))  # id = 객체가 저장된 위치를 가리키는 포인터(주소)\n",
    "print(id(b))\n",
    "print(type(a))  # type = 자료형 클래스\n",
    "print(type(b))"
   ]
  },
  {
   "cell_type": "markdown",
   "metadata": {},
   "source": [
    "## Iterator 이터레이터: (iterable 반복가능한) 반복이 가능한 객체\n",
    "### : list, dic, set, str ..."
   ]
  },
  {
   "cell_type": "code",
   "execution_count": 33,
   "metadata": {},
   "outputs": [
    {
     "data": {
      "text/plain": [
       "<__main__.Reverse at 0x7fc05404a4d0>"
      ]
     },
     "execution_count": 33,
     "metadata": {},
     "output_type": "execute_result"
    }
   ],
   "source": [
    "## 실습 문제 3: 주어진 문자열을 반대로 출력하는 이터레이터 클래스 구현\n",
    "\n",
    "\n",
    "class Reverse:\n",
    "    def __init__(self, data):\n",
    "        self.data = data\n",
    "        self.index = len(data)\n",
    "        \n",
    "    def __iter__(self):\n",
    "        return self\n",
    "    \n",
    "    def __next__(self):\n",
    "        if self.index == 0:\n",
    "            raise StopIteration  # raise 예외처리 = 해당 조건이 되면 사용자가 직접 에러를 일으키는 방법.\n",
    "        self.index = self.index - 1\n",
    "        return self.data[self.index]\n",
    "    \n",
    "    \n",
    "word = Reverse('Spam')\n",
    "word"
   ]
  },
  {
   "cell_type": "markdown",
   "metadata": {},
   "source": [
    "## generator 제네레이터: 'yield'를 사용해 데이터를 하나씩 반환하는 함수 \n",
    "### = iterator 를 생성하는 함수."
   ]
  },
  {
   "cell_type": "markdown",
   "metadata": {},
   "source": [
    "### 'yield'를 활용해 데이터를 하나씩 반환하는 함수. 이터레이터보다 더 간단함. \n",
    "### 제너레이터는 함수 안에서 yield라는 키워드만 사용하면 끝입니다. \n",
    "### 그래서 제너레이터는 이터레이터보다 훨씬 간단하게 작성할 수 있습니다."
   ]
  },
  {
   "cell_type": "code",
   "execution_count": 39,
   "metadata": {},
   "outputs": [
    {
     "name": "stdout",
     "output_type": "stream",
     "text": [
      "o\n",
      "l\n",
      "l\n",
      "e\n",
      "h\n"
     ]
    }
   ],
   "source": [
    "## 실습 문제 4: 주어진 문자열을 반대로 출력하는 제네레이터 함수 구현\n",
    "\n",
    "def reverse(input_string):\n",
    "    length = len(input_string)\n",
    "    for i in range(length-1, -1, -1):\n",
    "        yield input_string[i]  # yield 의 기능: yield 는 데이터를 하나씩 반환하며, 그 안에 값이 하나씩 지정된다\n",
    "        \n",
    "        \n",
    "for i in reverse('hello'):\n",
    "    print(i)"
   ]
  },
  {
   "cell_type": "markdown",
   "metadata": {},
   "source": [
    "## 제네레이터 표현식(Generator Expression)"
   ]
  },
  {
   "cell_type": "markdown",
   "metadata": {},
   "source": [
    "#### = list comprehension 과 비슷한데, () 를 사용한다. "
   ]
  },
  {
   "cell_type": "code",
   "execution_count": null,
   "metadata": {},
   "outputs": [],
   "source": []
  },
  {
   "cell_type": "markdown",
   "metadata": {},
   "source": [
    "## First Class Object (퍼스트 클래스 객체)\n",
    "\n",
    "### First Class 는 변수나 데이터 구조 안에 담을 수 있고, 함수 인수로 전달할 수 있고, 함수 결과로 리턴할 수 있는 객체이다."
   ]
  },
  {
   "cell_type": "markdown",
   "metadata": {},
   "source": [
    "## Nested Function: 함수 안에 있는 함수. 중첩함수."
   ]
  },
  {
   "cell_type": "markdown",
   "metadata": {},
   "source": [
    "## Lexical Closures: "
   ]
  },
  {
   "cell_type": "markdown",
   "metadata": {},
   "source": [
    "## Decorator: '@decorator' 함수를 적용할 함수 바로 위에 붙여준다."
   ]
  },
  {
   "cell_type": "code",
   "execution_count": null,
   "metadata": {},
   "outputs": [],
   "source": [
    "@decorator\n",
    "def introduce(name):\n",
    "    print('Hi, my name is', name)"
   ]
  },
  {
   "cell_type": "markdown",
   "metadata": {},
   "source": [
    "## Callable: 함수처럼 행동하는 객체를 Callable 함수로 판단할 수 있다. (모든 함수는 객체이지만, 모든 객체는 함수가 아님. 함수가 객체 안에 포함되어있는 것)"
   ]
  },
  {
   "cell_type": "code",
   "execution_count": null,
   "metadata": {},
   "outputs": [],
   "source": [
    "class Adder:\n",
    "    .\n",
    "    .\n",
    "    .\n",
    "    def __call__(self, x):\n",
    "        return self.n + x"
   ]
  },
  {
   "cell_type": "code",
   "execution_count": null,
   "metadata": {},
   "outputs": [],
   "source": []
  },
  {
   "cell_type": "markdown",
   "metadata": {},
   "source": [
    "# Numpy (넘파이)"
   ]
  },
  {
   "cell_type": "code",
   "execution_count": 43,
   "metadata": {},
   "outputs": [],
   "source": [
    "import numpy as np"
   ]
  },
  {
   "cell_type": "code",
   "execution_count": 47,
   "metadata": {},
   "outputs": [
    {
     "data": {
      "text/plain": [
       "array([2, 3, 4])"
      ]
     },
     "execution_count": 47,
     "metadata": {},
     "output_type": "execute_result"
    }
   ],
   "source": [
    "## Numpy 의 가장 기초적인 객체 = Array(배열, 요소들의 테이블)\n",
    "import numpy as np\n",
    "np.ndarray\n",
    "\n",
    "\n",
    "a = np.array([2,3,4])\n",
    "a"
   ]
  },
  {
   "cell_type": "code",
   "execution_count": 48,
   "metadata": {},
   "outputs": [
    {
     "data": {
      "text/plain": [
       "dtype('int64')"
      ]
     },
     "execution_count": 48,
     "metadata": {},
     "output_type": "execute_result"
    }
   ],
   "source": [
    "a.dtype  # 데이터 타입"
   ]
  },
  {
   "cell_type": "code",
   "execution_count": 82,
   "metadata": {},
   "outputs": [
    {
     "name": "stdout",
     "output_type": "stream",
     "text": [
      "[1.2 3.4 5.6]\n"
     ]
    }
   ],
   "source": [
    "b = np.array([1.2, 3.4, 5.6])\n",
    "b.dtype\n",
    "print(b)"
   ]
  },
  {
   "cell_type": "code",
   "execution_count": 51,
   "metadata": {},
   "outputs": [
    {
     "data": {
      "text/plain": [
       "array([[0., 0., 0., 0.],\n",
       "       [0., 0., 0., 0.],\n",
       "       [0., 0., 0., 0.]])"
      ]
     },
     "execution_count": 51,
     "metadata": {},
     "output_type": "execute_result"
    }
   ],
   "source": [
    "np.zeros((3,4))  # 행 3, 열 4 인 배열 생성"
   ]
  },
  {
   "cell_type": "code",
   "execution_count": 54,
   "metadata": {},
   "outputs": [
    {
     "data": {
      "text/plain": [
       "array([[[1, 1, 1, 1],\n",
       "        [1, 1, 1, 1],\n",
       "        [1, 1, 1, 1]],\n",
       "\n",
       "       [[1, 1, 1, 1],\n",
       "        [1, 1, 1, 1],\n",
       "        [1, 1, 1, 1]]], dtype=int16)"
      ]
     },
     "execution_count": 54,
     "metadata": {},
     "output_type": "execute_result"
    }
   ],
   "source": [
    "np.ones((2,3,4), dtype = np.int16)  #(배열 개수, 행, 열)"
   ]
  },
  {
   "cell_type": "code",
   "execution_count": 81,
   "metadata": {},
   "outputs": [
    {
     "name": "stdout",
     "output_type": "stream",
     "text": [
      "Original array\n",
      "[[1. 1. 1. 1. 1.]\n",
      " [1. 1. 1. 1. 1.]\n",
      " [1. 1. 1. 1. 1.]\n",
      " [1. 1. 1. 1. 1.]\n",
      " [1. 1. 1. 1. 1.]]\n",
      "1 on the border and 0 inside in the array\n",
      "[[1. 1. 1. 1. 1.]\n",
      " [1. 0. 0. 0. 1.]\n",
      " [1. 0. 0. 0. 1.]\n",
      " [1. 0. 0. 0. 1.]\n",
      " [1. 1. 1. 1. 1.]]\n"
     ]
    }
   ],
   "source": [
    "# 실습 문제 1) 5, 5, 2d array 만들기\n",
    "\n",
    "import numpy as np\n",
    "x = np.ones(((5,5)))\n",
    "print('Original array')\n",
    "print(x)\n",
    "print('1 on the border and 0 inside in the array')\n",
    "x[1:-1, 1:-1] = 0\n",
    "print(x)"
   ]
  },
  {
   "cell_type": "code",
   "execution_count": 85,
   "metadata": {},
   "outputs": [
    {
     "name": "stdout",
     "output_type": "stream",
     "text": [
      "Original Array\n",
      "[[1. 1. 1.]\n",
      " [1. 1. 1.]\n",
      " [1. 1. 1.]]\n"
     ]
    }
   ],
   "source": [
    "## 실습 문제 2) 1과 반대로 만들기\n",
    "\n",
    "import numpy as np\n",
    "x = np.ones((3,3))\n",
    "print('Original Array')\n",
    "print(x)"
   ]
  },
  {
   "attachments": {
    "image.png": {
     "image/png": "[encoded data removed]"
    }
   },
   "cell_type": "markdown",
   "metadata": {},
   "source": [
    "![image.png](attachment:image.png)"
   ]
  },
  {
   "cell_type": "code",
   "execution_count": 55,
   "metadata": {},
   "outputs": [
    {
     "name": "stdout",
     "output_type": "stream",
     "text": [
      "[0 1 2 3 4 5]\n"
     ]
    }
   ],
   "source": [
    "a = np.arange(6)\n",
    "print(a)"
   ]
  },
  {
   "cell_type": "code",
   "execution_count": 59,
   "metadata": {},
   "outputs": [
    {
     "name": "stdout",
     "output_type": "stream",
     "text": [
      "[[ 0  1  2]\n",
      " [ 3  4  5]\n",
      " [ 6  7  8]\n",
      " [ 9 10 11]]\n"
     ]
    }
   ],
   "source": [
    "b = np.arange(12).reshape(4,3)\n",
    "print(b)"
   ]
  },
  {
   "cell_type": "code",
   "execution_count": 61,
   "metadata": {},
   "outputs": [
    {
     "name": "stdout",
     "output_type": "stream",
     "text": [
      "[[[ 0  1  2  3]\n",
      "  [ 4  5  6  7]\n",
      "  [ 8  9 10 11]]\n",
      "\n",
      " [[12 13 14 15]\n",
      "  [16 17 18 19]\n",
      "  [20 21 22 23]]]\n"
     ]
    }
   ],
   "source": [
    "c = np.arange(24).reshape(2,3,4)\n",
    "print(c)"
   ]
  },
  {
   "cell_type": "code",
   "execution_count": null,
   "metadata": {},
   "outputs": [],
   "source": [
    "## 배열이 너무 큰 경우, 중간은 자동으로 생략되어 표현된다."
   ]
  },
  {
   "cell_type": "markdown",
   "metadata": {},
   "source": [
    "## Array Indexing"
   ]
  },
  {
   "cell_type": "code",
   "execution_count": null,
   "metadata": {},
   "outputs": [],
   "source": [
    "## 단일요소 인덱싱\n",
    "x = np.arange(10)\n",
    "x[2]\n",
    "x[-2]\n",
    "\n",
    "## 차원보다 작은 인덱싱\n"
   ]
  },
  {
   "cell_type": "code",
   "execution_count": 65,
   "metadata": {},
   "outputs": [
    {
     "data": {
      "text/plain": [
       "8"
      ]
     },
     "execution_count": 65,
     "metadata": {},
     "output_type": "execute_result"
    }
   ],
   "source": [
    "x.shape = (2,5)\n",
    "x[1,3]"
   ]
  },
  {
   "cell_type": "code",
   "execution_count": 67,
   "metadata": {},
   "outputs": [
    {
     "ename": "ValueError",
     "evalue": "only 2 non-keyword arguments accepted",
     "output_type": "error",
     "traceback": [
      "\u001b[0;31m---------------------------------------------------------------------------\u001b[0m",
      "\u001b[0;31mValueError\u001b[0m                                Traceback (most recent call last)",
      "\u001b[0;32m<ipython-input-67-de378423e37e>\u001b[0m in \u001b[0;36m<module>\u001b[0;34m\u001b[0m\n\u001b[1;32m      1\u001b[0m a = np.array([1,2,3],\n\u001b[1;32m      2\u001b[0m             \u001b[0;34m[\u001b[0m\u001b[0;36m4\u001b[0m\u001b[0;34m,\u001b[0m\u001b[0;36m5\u001b[0m\u001b[0;34m,\u001b[0m\u001b[0;36m6\u001b[0m\u001b[0;34m]\u001b[0m\u001b[0;34m,\u001b[0m\u001b[0;34m\u001b[0m\u001b[0;34m\u001b[0m\u001b[0m\n\u001b[0;32m----> 3\u001b[0;31m             [7,8,9])\n\u001b[0m\u001b[1;32m      4\u001b[0m \u001b[0;34m\u001b[0m\u001b[0m\n\u001b[1;32m      5\u001b[0m \u001b[0mprint\u001b[0m\u001b[0;34m(\u001b[0m\u001b[0ma\u001b[0m\u001b[0;34m)\u001b[0m\u001b[0;34m\u001b[0m\u001b[0;34m\u001b[0m\u001b[0m\n",
      "\u001b[0;31mValueError\u001b[0m: only 2 non-keyword arguments accepted"
     ]
    }
   ],
   "source": [
    "a = np.array([1,2,3],\n",
    "            [4,5,6],\n",
    "            [7,8,9])\n",
    "\n",
    "print(a) #??????????????????? # 모르겠어요"
   ]
  },
  {
   "cell_type": "code",
   "execution_count": 68,
   "metadata": {},
   "outputs": [
    {
     "data": {
      "text/plain": [
       "array([2, 3, 4])"
      ]
     },
     "execution_count": 68,
     "metadata": {},
     "output_type": "execute_result"
    }
   ],
   "source": [
    "x = np.arange(10)\n",
    "x[2:5]"
   ]
  },
  {
   "cell_type": "code",
   "execution_count": 72,
   "metadata": {},
   "outputs": [
    {
     "data": {
      "text/plain": [
       "array([[ 7, 10, 13],\n",
       "       [21, 24, 27]])"
      ]
     },
     "execution_count": 72,
     "metadata": {},
     "output_type": "execute_result"
    }
   ],
   "source": [
    "y = np.arange(35).reshape(5,7)\n",
    "y[1:5:2, ::3] #??????????????????? # 모르겠어요"
   ]
  },
  {
   "cell_type": "code",
   "execution_count": 74,
   "metadata": {},
   "outputs": [
    {
     "ename": "ValueError",
     "evalue": "only 2 non-keyword arguments accepted",
     "output_type": "error",
     "traceback": [
      "\u001b[0;31m---------------------------------------------------------------------------\u001b[0m",
      "\u001b[0;31mValueError\u001b[0m                                Traceback (most recent call last)",
      "\u001b[0;32m<ipython-input-74-cd5c256b3f19>\u001b[0m in \u001b[0;36m<module>\u001b[0;34m\u001b[0m\n\u001b[0;32m----> 1\u001b[0;31m \u001b[0ma\u001b[0m \u001b[0;34m=\u001b[0m \u001b[0mnp\u001b[0m\u001b[0;34m.\u001b[0m\u001b[0marray\u001b[0m\u001b[0;34m(\u001b[0m\u001b[0;34m[\u001b[0m\u001b[0;36m1\u001b[0m\u001b[0;34m,\u001b[0m \u001b[0;36m2\u001b[0m\u001b[0;34m]\u001b[0m\u001b[0;34m,\u001b[0m \u001b[0;34m[\u001b[0m\u001b[0;36m3\u001b[0m\u001b[0;34m,\u001b[0m \u001b[0;36m4\u001b[0m\u001b[0;34m]\u001b[0m\u001b[0;34m,\u001b[0m \u001b[0;34m[\u001b[0m\u001b[0;36m5\u001b[0m\u001b[0;34m,\u001b[0m \u001b[0;36m6\u001b[0m\u001b[0;34m]\u001b[0m\u001b[0;34m)\u001b[0m\u001b[0;34m\u001b[0m\u001b[0;34m\u001b[0m\u001b[0m\n\u001b[0m\u001b[1;32m      2\u001b[0m \u001b[0mbool_idx\u001b[0m \u001b[0;34m=\u001b[0m \u001b[0;34m(\u001b[0m\u001b[0ma\u001b[0m \u001b[0;34m>\u001b[0m \u001b[0;36m2\u001b[0m\u001b[0;34m)\u001b[0m\u001b[0;34m\u001b[0m\u001b[0;34m\u001b[0m\u001b[0m\n\u001b[1;32m      3\u001b[0m \u001b[0mprint\u001b[0m\u001b[0;34m(\u001b[0m\u001b[0mbool_idx\u001b[0m\u001b[0;34m)\u001b[0m\u001b[0;34m\u001b[0m\u001b[0;34m\u001b[0m\u001b[0m\n\u001b[1;32m      4\u001b[0m \u001b[0mprint\u001b[0m\u001b[0;34m(\u001b[0m\u001b[0ma\u001b[0m\u001b[0;34m[\u001b[0m\u001b[0mbool_idx\u001b[0m\u001b[0;34m]\u001b[0m\u001b[0;34m)\u001b[0m\u001b[0;34m\u001b[0m\u001b[0;34m\u001b[0m\u001b[0m\n",
      "\u001b[0;31mValueError\u001b[0m: only 2 non-keyword arguments accepted"
     ]
    }
   ],
   "source": [
    "a = np.array([1, 2], [3, 4], [5, 6])\n",
    "bool_idx = (a > 2)\n",
    "print(bool_idx)\n",
    "print(a[bool_idx])"
   ]
  },
  {
   "cell_type": "markdown",
   "metadata": {},
   "source": [
    "## Array Slicing"
   ]
  },
  {
   "cell_type": "code",
   "execution_count": null,
   "metadata": {},
   "outputs": [],
   "source": [
    "## Numpy 의 array 는 Python list 와 유사한 Slicing 문법 사용\n",
    "\n",
    "## 단, shallow copy 를 사용함"
   ]
  },
  {
   "cell_type": "markdown",
   "metadata": {},
   "source": [
    "## Shape Manipulation"
   ]
  },
  {
   "cell_type": "code",
   "execution_count": 75,
   "metadata": {},
   "outputs": [
    {
     "name": "stdout",
     "output_type": "stream",
     "text": [
      "[[1.01953144 7.4018838  2.43149721 8.6784126 ]\n",
      " [7.33963114 4.73899163 0.56562982 0.12386267]\n",
      " [0.78125978 8.11126425 9.33036488 3.81899405]]\n",
      "[[1. 7. 2. 8.]\n",
      " [7. 4. 0. 0.]\n",
      " [0. 8. 9. 3.]]\n"
     ]
    }
   ],
   "source": [
    "b = 10 * np.random.random((3,4))\n",
    "print(b)\n",
    "a = np.floor(b)  # 내림 함수\n",
    "print(a)"
   ]
  },
  {
   "cell_type": "code",
   "execution_count": 77,
   "metadata": {},
   "outputs": [
    {
     "data": {
      "text/plain": [
       "array([[1., 7., 2., 8., 7., 4.],\n",
       "       [0., 0., 0., 8., 9., 3.]])"
      ]
     },
     "execution_count": 77,
     "metadata": {},
     "output_type": "execute_result"
    }
   ],
   "source": [
    "# resize() 메서드는 배열 자체의 행과 열을 수정한다.\n",
    "a.resize((2,6))\n",
    "a\n",
    "\n",
    "# -1 로 지정된 경우는 자동으로 계산한다.  ???? 무슨 말이야..\n",
    "a.reshape(3, -1)\n",
    "a"
   ]
  },
  {
   "cell_type": "code",
   "execution_count": null,
   "metadata": {},
   "outputs": [],
   "source": [
    "# np.vstack() --> 1 axis 에 쌓기\n",
    "\n",
    "# np.hstack() --> 2 axis 에 쌓기"
   ]
  },
  {
   "cell_type": "code",
   "execution_count": null,
   "metadata": {},
   "outputs": [],
   "source": [
    "# np.vsplit() --> 1 axis 기준 나누기\n",
    "\n",
    "# np.hsplit() --> 2 axis 기준 나누기"
   ]
  },
  {
   "cell_type": "markdown",
   "metadata": {},
   "source": [
    "## Basic Operations"
   ]
  },
  {
   "cell_type": "code",
   "execution_count": 84,
   "metadata": {},
   "outputs": [
    {
     "data": {
      "text/plain": [
       "array([4, 6])"
      ]
     },
     "execution_count": 84,
     "metadata": {},
     "output_type": "execute_result"
    }
   ],
   "source": [
    "## 산술연산은 기본적으로 elementwise 로 적용.\n",
    "## 연산결과는 새로운 배열 생성 후 채워진다.\n",
    "\n",
    "x = np.array([1,2])\n",
    "y = np.array([3,4])\n",
    "x + y"
   ]
  },
  {
   "cell_type": "code",
   "execution_count": 89,
   "metadata": {},
   "outputs": [
    {
     "data": {
      "text/plain": [
       "array([[ 0,  1,  3,  6],\n",
       "       [ 4,  9, 15, 22],\n",
       "       [ 8, 17, 27, 38]])"
      ]
     },
     "execution_count": 89,
     "metadata": {},
     "output_type": "execute_result"
    }
   ],
   "source": [
    "## 많은 단항 연산이 필요한 경우 ndarray 클래스의 메서드를 사용한다.\n",
    "\n",
    "b = np.arange(12).reshape(3,4)  # reshape() = \n",
    "b\n",
    "b.sum(axis=0)\n",
    "b.min(axis=1)\n",
    "b.cumsum(axis=1)  #cumsum = ?"
   ]
  },
  {
   "cell_type": "code",
   "execution_count": null,
   "metadata": {},
   "outputs": [],
   "source": [
    "## Broadcating: 서로 같은 모양의 항을 요구하는 이항 연산에 대해서 한 항의 값을 반대의 크기에 맞게 확장하는 것.\n",
    "## 브로드캐스트(broadcast)는 스칼라 값이 연산하려는 배열의 형상으로 확대된 후, 연산이 적용되는 기능을 뜻한다.\n"
   ]
  },
  {
   "cell_type": "code",
   "execution_count": null,
   "metadata": {},
   "outputs": [],
   "source": [
    "np.expand_dims(a,0).shape"
   ]
  },
  {
   "cell_type": "code",
   "execution_count": null,
   "metadata": {},
   "outputs": [],
   "source": []
  },
  {
   "cell_type": "code",
   "execution_count": null,
   "metadata": {},
   "outputs": [],
   "source": []
  },
  {
   "cell_type": "code",
   "execution_count": null,
   "metadata": {},
   "outputs": [],
   "source": [
    "## 실습 문제 4) 연립 일차 방정식 풀기\n",
    "\n",
    "def linear_system"
   ]
  },
  {
   "cell_type": "code",
   "execution_count": null,
   "metadata": {},
   "outputs": [],
   "source": []
  },
  {
   "cell_type": "code",
   "execution_count": null,
   "metadata": {},
   "outputs": [],
   "source": []
  },
  {
   "cell_type": "code",
   "execution_count": null,
   "metadata": {},
   "outputs": [],
   "source": []
  },
  {
   "cell_type": "code",
   "execution_count": null,
   "metadata": {},
   "outputs": [],
   "source": []
  },
  {
   "cell_type": "code",
   "execution_count": null,
   "metadata": {},
   "outputs": [],
   "source": []
  },
  {
   "cell_type": "code",
   "execution_count": null,
   "metadata": {},
   "outputs": [],
   "source": []
  }
 ],
 "metadata": {
  "kernelspec": {
   "display_name": "Python 3",
   "language": "python",
   "name": "python3"
  },
  "language_info": {
   "codemirror_mode": {
    "name": "ipython",
    "version": 3
   },
   "file_extension": ".py",
   "mimetype": "text/x-python",
   "name": "python",
   "nbconvert_exporter": "python",
   "pygments_lexer": "ipython3",
   "version": "3.7.6"
  }
 },
 "nbformat": 4,
 "nbformat_minor": 4
}
