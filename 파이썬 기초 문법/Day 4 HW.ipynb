{
 "cells": [
  {
   "cell_type": "markdown",
   "metadata": {},
   "source": [
    "### 실습 2) 파일명을 입력 받아, 해당 파일을 한 줄씩 읽어 파일의 내용을 모두 대문자로 출력하는 프로그램을 작성하시오. 단, 파일이 없는 경우 '파일이 존재하지 않는다' 정도의 아래 메시지를 출력할 것."
   ]
  },
  {
   "cell_type": "code",
   "execution_count": 1,
   "metadata": {},
   "outputs": [
    {
     "name": "stdout",
     "output_type": "stream",
     "text": [
      "Enter a file name:test1.txt\n",
      "FIRST LINE\n",
      "SECOND LINE\n",
      "THIRD LINE\n"
     ]
    }
   ],
   "source": [
    "# 방법 1: os 모듈 사용\n",
    "\n",
    "import os  \n",
    "\n",
    "file_name = input(\"Enter a file name:\")\n",
    "\n",
    "if os.path.exists(file_name):\n",
    "    fr = open(file_name, 'r')\n",
    "    for i in fr:\n",
    "        i = i.upper()\n",
    "        print(i.replace('\\n', ''))\n",
    "    \n",
    "else:\n",
    "    print('File does not exists.')"
   ]
  },
  {
   "cell_type": "code",
   "execution_count": 1,
   "metadata": {},
   "outputs": [
    {
     "name": "stdout",
     "output_type": "stream",
     "text": [
      "Enter a file name:test1.txt\n",
      "FIRST LINE \n",
      "SECOND LINE \n",
      "THIRD LINE \n"
     ]
    }
   ],
   "source": [
    "# 방법 2: os 모듈 미사용\n",
    "\n",
    "file_name = input('Enter a file name:')\n",
    "fr = open('%s' % file_name, 'r')\n",
    "res = fr.readlines()\n",
    "dic = dict()\n",
    "\n",
    "for i in res:\n",
    "    i = i.split()\n",
    "    for j in i:\n",
    "        j = j.upper()\n",
    "        print(j, end = ' ')\n",
    "    print()"
   ]
  },
  {
   "cell_type": "markdown",
   "metadata": {},
   "source": [
    "### 실습 4) 아래의 score.txt 를 읽어서 학생들의 성적을 처리하여 그 결과를 report.txt 로 출력하는 프로그램을 작성하시오."
   ]
  },
  {
   "cell_type": "code",
   "execution_count": null,
   "metadata": {},
   "outputs": [],
   "source": [
    "## 파일에 내용 추가하기: append 모드\n",
    "\n",
    "fw = open('new2.txt', 'a')\n",
    "\n",
    "for i in range(6, 11):\n",
    "    data = '%d line\\n' % i\n",
    "    fw.write(data)\n",
    "\n",
    "fw.close()"
   ]
  },
  {
   "cell_type": "code",
   "execution_count": 121,
   "metadata": {
    "scrolled": true
   },
   "outputs": [],
   "source": [
    "fr = open('score.txt', 'r')\n",
    "fw = open('report.txt', 'w')  # fr 과 fw 는 같이 해준다.\n",
    "scores = fr.readlines()\n",
    "lst = []\n",
    "new_lst = []\n",
    "\n",
    "for i in scores:\n",
    "    i = i.replace('\\n', '')\n",
    "    lst.append(i)\n",
    "    \n",
    "for j in range(len(lst)):\n",
    "    stu_id, a, b = lst[j].split()\n",
    "    sum_ = float(a)*0.4 + float(b)*0.6\n",
    "\n",
    "    if sum_ >= 90:\n",
    "        new_lst.append('%0.1f(A)'% sum_)\n",
    "    elif sum_ >= 80 and sum_ < 90:\n",
    "        new_lst.append('%0.1f(B)'% sum_)\n",
    "    elif sum_ >= 70 and sum_ < 80:\n",
    "        new_lst.append('%0.1f(C)'% sum_)\n",
    "    elif sum_ >= 60 and sum_ < 70:\n",
    "        new_lst.append('%0.1f(D)'% sum_)\n",
    "    else:\n",
    "        new_lst.append('%0.1f(F)'% sum_)\n",
    "        \n",
    "    data = '%s %s \\n' % (lst[j], new_lst[j]) # 줄바꿈 기호 넣기, # scores 로 받으면 안됨.\n",
    "    fw.write(data)\n",
    "\n",
    "fw.close()"
   ]
  },
  {
   "cell_type": "markdown",
   "metadata": {},
   "source": [
    "### 함수 과제 1) 소수(prime number) 를 판단하는 함수 정의하기"
   ]
  },
  {
   "cell_type": "code",
   "execution_count": 57,
   "metadata": {},
   "outputs": [
    {
     "name": "stdout",
     "output_type": "stream",
     "text": [
      "13는 소수입니다.\n",
      "15는 소수가 아닙니다.\n"
     ]
    }
   ],
   "source": [
    "def check_prime(num):\n",
    "    if num != 1:\n",
    "        for f in range(2, num):\n",
    "            if num % f == 0:\n",
    "                return False\n",
    "    else:\n",
    "        return False\n",
    "    \n",
    "    return True\n",
    "\n",
    "def main():\n",
    "    a = 13\n",
    "    b = 15\n",
    "    \n",
    "    if check_prime(a) == True:\n",
    "        print(str(a) +'는 소수입니다.')\n",
    "    else:\n",
    "        print(str(a) +'는 소수가 아닙니다.')\n",
    "        \n",
    "    if check_prime(b) == True:\n",
    "        print(str(b) +'는 소수입니다.')\n",
    "    else:\n",
    "        print(str(b) +'는 소수가 아닙니다.')\n",
    "        \n",
    "if __name__ == '__main__':\n",
    "    main()"
   ]
  },
  {
   "cell_type": "markdown",
   "metadata": {},
   "source": [
    "### 함수 과제 2) 천 단위마다 쉼표 추가하는 함수 정의하기"
   ]
  },
  {
   "cell_type": "code",
   "execution_count": 2,
   "metadata": {},
   "outputs": [
    {
     "name": "stdout",
     "output_type": "stream",
     "text": [
      "1,234\n",
      "12,345,678\n",
      "12\n"
     ]
    }
   ],
   "source": [
    "def add_comma(val):\n",
    "    val = str(val)\n",
    "    lst = []\n",
    "    new_lst = []\n",
    "    stri = ''\n",
    "    \n",
    "    for i in val:\n",
    "        lst.append(i)\n",
    "        \n",
    "    for i in range(1, len(val)+1):\n",
    "        new_lst.append(lst[-i])\n",
    "        if i % 3 == 0 and i != 0:\n",
    "            new_lst.append(',')\n",
    "    \n",
    "    for i in range(len(new_lst)-1, -1, -1):\n",
    "        stri += new_lst[i]\n",
    "    return stri\n",
    "\n",
    "    \n",
    "def main():\n",
    "    comma_added_1234 = add_comma(1234)\n",
    "    comma_added_12345677 = add_comma(12345678)\n",
    "    comma_added_12 = add_comma(12)\n",
    "    \n",
    "    print(comma_added_1234)\n",
    "    print(comma_added_12345677)\n",
    "    print(comma_added_12)\n",
    "\n",
    "if __name__ == '__main__':\n",
    "    main()"
   ]
  },
  {
   "cell_type": "markdown",
   "metadata": {},
   "source": [
    "### ★ 함수 과제 3) 전달받은 단어열의 n-gram 을 구해주는 tokenize() 함수 정의하기"
   ]
  },
  {
   "cell_type": "code",
   "execution_count": 41,
   "metadata": {},
   "outputs": [
    {
     "name": "stdout",
     "output_type": "stream",
     "text": [
      "['There', 'was', 'a', 'farmer', 'who', 'had', 'a', 'dog', '.']\n",
      "['There was', 'was a', 'a farmer', 'farmer who', 'who had', 'had a', 'a dog', 'dog .']\n"
     ]
    }
   ],
   "source": [
    "def tokenize(trg, N=1):\n",
    "    lst1 = trg.split()\n",
    "    lst2 = []\n",
    "    for i in range(len(lst1)-(N-1)):\n",
    "        lst2.append(' '.join(lst1[i:i+N]))\n",
    "    return lst2\n",
    "        \n",
    "def main():        if i in da:\n",
    "            da[i] += 1\n",
    "        else:\n",
    "            da[i] = 1\n",
    "    a = 'There was a farmer who had a dog .'\n",
    "    print(tokenize(a))\n",
    "    print(tokenize(a, 2))\n",
    "    \n",
    "if __name__ == '__main__':\n",
    "    main()"
   ]
  },
  {
   "cell_type": "markdown",
   "metadata": {},
   "source": [
    "### ★ 함수 과제 4) 여러 벡터를 전달받아, 평균과 분산을 구하는 함수 정의하기"
   ]
  },
  {
   "cell_type": "code",
   "execution_count": 61,
   "metadata": {},
   "outputs": [
    {
     "name": "stdout",
     "output_type": "stream",
     "text": [
      "평균: [0.5, 0.5]\n",
      "분산: [0.16666666666666666, 0.16666666666666666]\n"
     ]
    }
   ],
   "source": [
    "def mean_and_var(*val):\n",
    "    x_lst = []\n",
    "    y_lst = []\n",
    "    sum1, sum2 = 0, 0\n",
    "    m1, m2 = 0, 0\n",
    "    vsum1, vsum2 = 0, 0\n",
    "    var1, var2 = 0, 0\n",
    "    \n",
    "    for i in range(len(val)):\n",
    "        x_lst.append(val[i][0])\n",
    "        y_lst.append(val[i][1])\n",
    "        \n",
    "    for i in x_lst:\n",
    "        sum1 += i\n",
    "    for i in y_lst:\n",
    "        sum2 += i\n",
    "        \n",
    "    m1 = sum1 / len(x_lst)\n",
    "    m2 = sum2 / len(y_lst)\n",
    "    \n",
    "    for i in x_lst:\n",
    "        vsum1 += (i - m1)**2\n",
    "        var1 = vsum1 / len(val)\n",
    "    \n",
    "    for i in y_lst:\n",
    "        vsum2 += (i - m2)**2\n",
    "        var2 = vsum2 / len(val)\n",
    "    \n",
    "    return [m1, m2], [var1, var2]\n",
    "        \n",
    "## 편차를 제곱하고 합계를 구한 다음, 다시 평균 값으로 만든 것이 분산이다.\n",
    "\n",
    "def main():\n",
    "    v1 = (0, 1)\n",
    "    v2 = (0.5, 0.5)\n",
    "    v3 = (1, 0)\n",
    "    m, var = mean_and_var(v1, v2, v3)\n",
    "    print('평균:', m)\n",
    "    print('분산:', var)\n",
    "    \n",
    "if __name__ == '__main__':\n",
    "    main()"
   ]
  },
  {
   "cell_type": "markdown",
   "metadata": {},
   "source": [
    "### 실습문제 8) \n",
    "#### (1) 전달받은 문장에서 각 알파벳이 몇 개씩 나오는지 저장하는 딕셔너리를 만든 후, 반환하는 함수 letter_dict() 를 작성하시오.\n",
    "#### (2) letter_dict() 함수를 통해 생성된 딕셔너리에서 가장 많이 등장한 알파벳을 찾아 반환하는 함수를 작성하시오.(여러 개일 경우 아무 값이나 하나만 반환)"
   ]
  },
  {
   "cell_type": "code",
   "execution_count": 16,
   "metadata": {},
   "outputs": [
    {
     "name": "stdout",
     "output_type": "stream",
     "text": [
      "{'r': 1, 'e': 2, 'd': 1, ' ': 1, 'a': 1, 'p': 2, 'l': 1}\n",
      "e\n"
     ]
    }
   ],
   "source": [
    "d = {}\n",
    "\n",
    "def letter_dict(s):\n",
    "    for i in s:\n",
    "        if i in d:\n",
    "            d[i] += 1\n",
    "        else:\n",
    "            d[i] = 1\n",
    "    return d\n",
    "    \n",
    "\n",
    "def max_letter(dic):\n",
    "    new = sorted(d.items(), reverse=True, key=lambda d: d[1])\n",
    "    \n",
    "    return new[0][0]\n",
    "    \n",
    "a = letter_dict('red apple')\n",
    "print(a)\n",
    "print(max_letter(a))"
   ]
  },
  {
   "cell_type": "markdown",
   "metadata": {},
   "source": [
    "### 실습문제 9)\n",
    "#### (1) letter_dict() 함수에 'yellow banana' 를 전달하여 새로운 딕셔너리 b를 생성한다.\n",
    "#### (2) 두 딕셔너리 a, b 를 전달받아 각 딕셔너리에 등장한 값을 모두 더한 새로운 딕셔너리 c를 반환하는 함수 comb_dict 를 작성하시오."
   ]
  },
  {
   "cell_type": "code",
   "execution_count": 17,
   "metadata": {},
   "outputs": [
    {
     "name": "stdout",
     "output_type": "stream",
     "text": [
      "{'r': 1, 'e': 3, 'd': 1, ' ': 2, 'a': 4, 'p': 2, 'l': 3, 'y': 1, 'o': 1, 'w': 1, 'b': 1, 'n': 2}\n",
      "a\n"
     ]
    }
   ],
   "source": [
    "def comb_dict(dic1, dic2):\n",
    "    dic1.update(dic2)  # 두 딕셔너리를 병합할 때 update 함수를 사용한다.\n",
    "    return dic1\n",
    "\n",
    "b = letter_dict('yellow banana')\n",
    "c = comb_dict(a, b)\n",
    "print(c)\n",
    "print(max_letter(c))"
   ]
  }
 ],
 "metadata": {
  "kernelspec": {
   "display_name": "Python 3",
   "language": "python",
   "name": "python3"
  },
  "language_info": {
   "codemirror_mode": {
    "name": "ipython",
    "version": 3
   },
   "file_extension": ".py",
   "mimetype": "text/x-python",
   "name": "python",
   "nbconvert_exporter": "python",
   "pygments_lexer": "ipython3",
   "version": "3.7.6"
  }
 },
 "nbformat": 4,
 "nbformat_minor": 4
}
