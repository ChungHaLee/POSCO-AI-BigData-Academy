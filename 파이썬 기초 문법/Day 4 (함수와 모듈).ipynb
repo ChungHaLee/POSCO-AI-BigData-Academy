{
 "cells": [
  {
   "cell_type": "code",
   "execution_count": null,
   "metadata": {},
   "outputs": [],
   "source": [
    "## OS "
   ]
  },
  {
   "cell_type": "code",
   "execution_count": 1,
   "metadata": {},
   "outputs": [
    {
     "data": {
      "text/plain": [
       "False"
      ]
     },
     "execution_count": 1,
     "metadata": {},
     "output_type": "execute_result"
    }
   ],
   "source": [
    "import os\n",
    "# os 모듈은 파일을 복사하거나 디렉터리를 생성하고 특정 디렉터리 내의 파일 목록을 구하고자 할 때 사용.\n",
    "\n",
    "# 코드 내에서 직접 파일을 다루는 경우 os.path 모듈을 사용하게 된다.\n",
    "# os.path 내에는 경로반환, 경로추출 등 파일/디렉토리 경로와 관련된 많은 함수를 제공해준다.\n",
    "\n",
    "os.path.exists('new2.txt')  # 파일이 있으면 true, 없으면 false 값을 반환한다."
   ]
  },
  {
   "cell_type": "markdown",
   "metadata": {},
   "source": [
    "### 실습 2"
   ]
  },
  {
   "cell_type": "code",
   "execution_count": 9,
   "metadata": {},
   "outputs": [
    {
     "name": "stdout",
     "output_type": "stream",
     "text": [
      "Enter a file name:test1.txt\n",
      "FIRST LINE\n",
      "SECOND LINE\n",
      "THIRD LINE\n"
     ]
    }
   ],
   "source": [
    "import os  \n",
    "\n",
    "file_name = input(\"Enter a file name:\")\n",
    "\n",
    "if os.path.exists(file_name):\n",
    "    fr = open(file_name, 'r')\n",
    "    for i in fr:\n",
    "        i = i.upper()\n",
    "        print(i.replace('\\n', ''))\n",
    "    \n",
    "else:\n",
    "    print('File does not exists.')"
   ]
  },
  {
   "cell_type": "code",
   "execution_count": 10,
   "metadata": {},
   "outputs": [],
   "source": [
    "## 파일에 내용 추가하기: append 모드\n",
    "\n",
    "fw = open('new2.txt', 'a')\n",
    "\n",
    "for i in range(6, 11):\n",
    "    data = '%d line\\n' % i\n",
    "    fw.write(data)\n",
    "\n",
    "fw.close()"
   ]
  },
  {
   "cell_type": "code",
   "execution_count": null,
   "metadata": {},
   "outputs": [],
   "source": [
    "## 파일을 열고 자동으로 닫기(with~as)\n",
    "\n",
    "# open(): 파일 열기\n",
    "# close() : 파일 닫기\n",
    "\n",
    "f = open(\"\", 'w')\n",
    "f.write('Python is fun!')\n",
    "f.close()\n",
    "\n",
    "# 위의 코드는 아래의 코드와 같이 표현할 수 있다.\n",
    "# with ~ as 표현 사용.\n",
    "\n",
    "with open('', 'w') as f:\n",
    "    f.write('Python is fun!')"
   ]
  },
  {
   "cell_type": "markdown",
   "metadata": {},
   "source": [
    "## 함수와 모듈"
   ]
  },
  {
   "cell_type": "code",
   "execution_count": 11,
   "metadata": {},
   "outputs": [
    {
     "name": "stdout",
     "output_type": "stream",
     "text": [
      "300\n"
     ]
    }
   ],
   "source": [
    "# 함수: 같은 기능을 하는 것을 하나로 묶어 만든 블랙박스\n",
    "## 함수 사용 이유: 코드 재사용성 고려, 절차를 분해시켜 작은 작업을 하는 함수를 여러 개 만들어 함께 실행\n",
    "\n",
    "def add(a, b):    # 매개변수(parameter)의 기능: 외부로부터 값을 받는다.\n",
    "    result = a + b\n",
    "    return result\n",
    "\n",
    "\n",
    "add_result = add(100, 200)\n",
    "print(add_result)"
   ]
  },
  {
   "cell_type": "code",
   "execution_count": 14,
   "metadata": {},
   "outputs": [
    {
     "name": "stdout",
     "output_type": "stream",
     "text": [
      "6 13\n",
      "6 13\n"
     ]
    }
   ],
   "source": [
    "## 함수 실습 문제\n",
    "\n",
    "def my_len(l):\n",
    "    length = 0  # 변수 선언하기.\n",
    "    for _ in l:\n",
    "        length += 1  # 리스트 또는 문자열의 원소 개수만큼 1을 length 에 1을 더해준다.\n",
    "    return length  \n",
    "\n",
    "\n",
    "\n",
    "a = [5,5,6,7,8,3]\n",
    "b = 'Life is short'\n",
    "print(len(a), len(b))\n",
    "print(my_len(a), my_len(b))"
   ]
  },
  {
   "cell_type": "code",
   "execution_count": 16,
   "metadata": {},
   "outputs": [
    {
     "name": "stdout",
     "output_type": "stream",
     "text": [
      "3 -1 2 0.5\n"
     ]
    }
   ],
   "source": [
    "## 실습 문제 1\n",
    "\n",
    "a = 1\n",
    "b = 2\n",
    "\n",
    "def add(x, y):\n",
    "    add_res = x + y\n",
    "    return add_res\n",
    "\n",
    "\n",
    "def sub(x, y):\n",
    "    sub_res = x - y\n",
    "    return sub_res\n",
    "\n",
    "\n",
    "def mul(x, y):\n",
    "    mul_res = x * y\n",
    "    return mul_res\n",
    "\n",
    "\n",
    "def div(x, y):\n",
    "    div_res = x / y\n",
    "    return div_res\n",
    "\n",
    "\n",
    "c = add(a, b)\n",
    "d = sub(a, b)\n",
    "e = mul(a, b)\n",
    "f = div(a, b)\n",
    "\n",
    "print(c, d, e, f)"
   ]
  },
  {
   "cell_type": "code",
   "execution_count": 3,
   "metadata": {},
   "outputs": [
    {
     "data": {
      "text/plain": [
       "4"
      ]
     },
     "execution_count": 3,
     "metadata": {},
     "output_type": "execute_result"
    }
   ],
   "source": [
    "## 가변 매개변수: 매개변수가 몇 개인지 모를 경우에는 가변 매개변수를 사용한다.\n",
    "\n",
    "# 짝수 개수 구하기\n",
    "def count_even(*n):  # 매개변수의 개수를 모를 때 *n 으로 표현한다.\n",
    "    cnt = 0\n",
    "    for v in n:\n",
    "        if v % 2 == 0:\n",
    "            cnt += 1\n",
    "    return cnt\n",
    "\n",
    "count_even(1,2,3,4,5,6,7,8,9)\n",
    "\n",
    "\n",
    "# 일반 매개변수와 가변 매개변수를 섞어서 쓸 때,\n",
    "# def f(a, *b, c) 처럼 가변 매개변수를 섞어서 쓸 수 없다.(한 쪽으로 몰아서 쓰기)"
   ]
  },
  {
   "cell_type": "code",
   "execution_count": 25,
   "metadata": {},
   "outputs": [
    {
     "name": "stdout",
     "output_type": "stream",
     "text": [
      "In function-z : 100\n",
      "In function-z : 200\n",
      "30 200\n"
     ]
    }
   ],
   "source": [
    "### 이름이 같다고 해서 같은 것이라고 할 수 없다.\n",
    "\n",
    "## 지역변수: 함수 안에서 만들어져 함수 안에서만 사용. 매개변수는 지역변수이다.\n",
    "## 전역변수: 함수 밖에서 만들어져 아무데서나 사용 가능, 그러나 함수 안에서 전역 변수를 다시 수정할 수는 없다.\\\n",
    "\n",
    "def add(x, y):\n",
    "    global z  # 전역변수 z를 함수 안에서 쓸 것임을 선언.\n",
    "    print('In function-z :', z)\n",
    "    z = 200   # 전역변수 z를 함수 안에서 다시 바꿀 수 있음(앞에서 선언했기 때문에)\n",
    "    print('In function-z :', z)\n",
    "    return x + y\n",
    "\n",
    "x = 10\n",
    "y = 20\n",
    "z = 100\n",
    "\n",
    "sum_ = add(x, y)\n",
    "print(sum_, z)\n",
    "\n",
    "## L, G, B 우선순위: L(지역변수) --> G(전역변수) --> B(전체?)"
   ]
  },
  {
   "cell_type": "code",
   "execution_count": 20,
   "metadata": {},
   "outputs": [
    {
     "name": "stdout",
     "output_type": "stream",
     "text": [
      "6\n",
      "120\n",
      "40320\n",
      "1\n"
     ]
    }
   ],
   "source": [
    "## 실습 문제 2\n",
    "\n",
    "def factorial(n):\n",
    "    fac = 1\n",
    "    for i in range(1, n+1):\n",
    "        fac *= i\n",
    "    return fac\n",
    "\n",
    "print(factorial(3))\n",
    "print(factorial(5))\n",
    "print(factorial(8))\n",
    "print(factorial(1))"
   ]
  },
  {
   "cell_type": "code",
   "execution_count": 38,
   "metadata": {},
   "outputs": [
    {
     "name": "stdout",
     "output_type": "stream",
     "text": [
      "125\n",
      "16\n",
      "16\n"
     ]
    }
   ],
   "source": [
    "## 실습 문제 3\n",
    "\n",
    "def pow(n, a):\n",
    "    mul = 1  # 처음에 값을 저장할 변수 1\n",
    "    for _ in range(1, a+1):\n",
    "        mul *= n\n",
    "    return mul\n",
    "\n",
    "print(pow(5,3))\n",
    "print(pow(4,2))\n",
    "print(pow(2,4))"
   ]
  },
  {
   "cell_type": "code",
   "execution_count": 43,
   "metadata": {},
   "outputs": [
    {
     "name": "stdout",
     "output_type": "stream",
     "text": [
      "16시간 4분 54초\n"
     ]
    }
   ],
   "source": [
    "## 실습 문제 4\n",
    "\n",
    "def hour_min_sec(second):\n",
    "    hour = second / 3600\n",
    "    last_time1 = second % 3600\n",
    "    min_ = last_time1 / 60\n",
    "    last_time2 = last_time1 % 60\n",
    "    sec = last_time2\n",
    "    return hour, min_, sec\n",
    "\n",
    "hour, min_, sec = hour_min_sec(57894)\n",
    "print('%d시간 %d분 %d초'%(hour, min_, sec))"
   ]
  },
  {
   "cell_type": "code",
   "execution_count": 45,
   "metadata": {},
   "outputs": [
    {
     "name": "stdout",
     "output_type": "stream",
     "text": [
      "My name is ChungHa Lee.\n"
     ]
    }
   ],
   "source": [
    "## 디폴트 매개변수\n",
    "\n",
    "def printName(first, second='?'):\n",
    "    print('My name is', first, second + '.')\n",
    "    \n",
    "printName('ChungHa', 'Lee')"
   ]
  },
  {
   "cell_type": "code",
   "execution_count": 48,
   "metadata": {},
   "outputs": [
    {
     "ename": "TypeError",
     "evalue": "calc() got multiple values for argument 'y'",
     "output_type": "error",
     "traceback": [
      "\u001b[0;31m---------------------------------------------------------------------------\u001b[0m",
      "\u001b[0;31mTypeError\u001b[0m                                 Traceback (most recent call last)",
      "\u001b[0;32m<ipython-input-48-37dc9013b1a4>\u001b[0m in \u001b[0;36m<module>\u001b[0;34m\u001b[0m\n\u001b[1;32m      5\u001b[0m \u001b[0;34m\u001b[0m\u001b[0m\n\u001b[1;32m      6\u001b[0m \u001b[0mcalc\u001b[0m\u001b[0;34m(\u001b[0m\u001b[0;36m1\u001b[0m\u001b[0;34m,\u001b[0m \u001b[0my\u001b[0m \u001b[0;34m=\u001b[0m\u001b[0;36m20\u001b[0m\u001b[0;34m,\u001b[0m \u001b[0mz\u001b[0m\u001b[0;34m=\u001b[0m\u001b[0;36m30\u001b[0m\u001b[0;34m)\u001b[0m\u001b[0;34m\u001b[0m\u001b[0;34m\u001b[0m\u001b[0m\n\u001b[0;32m----> 7\u001b[0;31m \u001b[0mcalc\u001b[0m\u001b[0;34m(\u001b[0m\u001b[0;36m10\u001b[0m\u001b[0;34m,\u001b[0m \u001b[0;36m30\u001b[0m\u001b[0;34m,\u001b[0m \u001b[0my\u001b[0m\u001b[0;34m=\u001b[0m\u001b[0;36m20\u001b[0m\u001b[0;34m)\u001b[0m  \u001b[0;31m# 에러 발생\u001b[0m\u001b[0;34m\u001b[0m\u001b[0;34m\u001b[0m\u001b[0m\n\u001b[0m",
      "\u001b[0;31mTypeError\u001b[0m: calc() got multiple values for argument 'y'"
     ]
    }
   ],
   "source": [
    "## 키워드 매개변수: 함수 호출 시에 해당 매개변수 이름을 명시적으로 지정해 전달\n",
    "\n",
    "def calc(x, y, z):\n",
    "    return x + y + z\n",
    "\n",
    "calc(1, y =20, z=30)\n",
    "calc(10, 30, y=20)  # 에러 발생"
   ]
  },
  {
   "cell_type": "code",
   "execution_count": 49,
   "metadata": {},
   "outputs": [
    {
     "name": "stdout",
     "output_type": "stream",
     "text": [
      "[1, 20, 3]\n"
     ]
    }
   ],
   "source": [
    "# mutable(변하는) 타입의 매개변수: 리스트, 딕셔너리, 집합\n",
    "\n",
    "def test(a):\n",
    "    a[1] = 20\n",
    "    \n",
    "t = [1,2,3]\n",
    "test(t)\n",
    "print(t)"
   ]
  },
  {
   "cell_type": "code",
   "execution_count": 51,
   "metadata": {},
   "outputs": [
    {
     "name": "stdout",
     "output_type": "stream",
     "text": [
      "2\n"
     ]
    }
   ],
   "source": [
    "# immutable(변하지 않는) 타입의 매개변수: 숫자, 튜플, 문자열\n",
    "\n",
    "def test(a):\n",
    "    a += 1\n",
    "    \n",
    "t = 2\n",
    "test(t)\n",
    "print(t)"
   ]
  },
  {
   "cell_type": "code",
   "execution_count": 52,
   "metadata": {},
   "outputs": [
    {
     "name": "stdout",
     "output_type": "stream",
     "text": [
      "1\n",
      "9\n",
      "[3, 5, 2]\n"
     ]
    }
   ],
   "source": [
    "## 실습문제 5\n",
    "\n",
    "def get_min_max(lst):\n",
    "    min_val = min(num_lst)\n",
    "    max_val = max(num_lst)\n",
    "    num_lst.remove(min_val)\n",
    "    num_lst.remove(max_val)\n",
    "    return min_val, max_val\n",
    "\n",
    "num_lst = [3, 5, 9, 1, 2]\n",
    "min_val, max_val = get_min_max(num_lst)\n",
    "\n",
    "print(min_val)\n",
    "print(max_val)\n",
    "print(num_lst)"
   ]
  },
  {
   "cell_type": "markdown",
   "metadata": {},
   "source": [
    "# 모듈 \n",
    "## 외장함수(Random, Time, YS, OS)"
   ]
  },
  {
   "cell_type": "markdown",
   "metadata": {},
   "source": [
    "### 1. 난수 생성(Random 모듈)"
   ]
  },
  {
   "cell_type": "code",
   "execution_count": 54,
   "metadata": {},
   "outputs": [
    {
     "data": {
      "text/plain": [
       "'s'"
      ]
     },
     "execution_count": 54,
     "metadata": {},
     "output_type": "execute_result"
    }
   ],
   "source": [
    "import random\n",
    "\n",
    "random.choice('abcdefghijklmnopqrstuvwxyz')"
   ]
  },
  {
   "cell_type": "code",
   "execution_count": 55,
   "metadata": {},
   "outputs": [
    {
     "data": {
      "text/plain": [
       "1"
      ]
     },
     "execution_count": 55,
     "metadata": {},
     "output_type": "execute_result"
    }
   ],
   "source": [
    "random.randint(1, 5)  # randint: a이상 b이하인 임의의 정수 뽑기"
   ]
  },
  {
   "cell_type": "code",
   "execution_count": 56,
   "metadata": {},
   "outputs": [
    {
     "name": "stdout",
     "output_type": "stream",
     "text": [
      "[3, 4, 1, 5, 2]\n"
     ]
    }
   ],
   "source": [
    "Ls = [1,2,3,4,5]\n",
    "random.shuffle(Ls)   # shuffle: 리스트 내용을 랜덤으로 섞기\n",
    "print(Ls)"
   ]
  },
  {
   "cell_type": "code",
   "execution_count": 57,
   "metadata": {},
   "outputs": [
    {
     "data": {
      "text/plain": [
       "[5, 4, 3]"
      ]
     },
     "execution_count": 57,
     "metadata": {},
     "output_type": "execute_result"
    }
   ],
   "source": [
    "random.sample([1,2,3,4,5,6], 3)  # sample: 리스트 중 3개의 원소 임의로 뽑기"
   ]
  },
  {
   "cell_type": "code",
   "execution_count": 61,
   "metadata": {},
   "outputs": [
    {
     "data": {
      "text/plain": [
       "[23, 28, 3, 35, 21, 9]"
      ]
     },
     "execution_count": 61,
     "metadata": {},
     "output_type": "execute_result"
    }
   ],
   "source": [
    "## 실습문제 6\n",
    "\n",
    "lotto_lst = list(range(1, 46))  # 리스트 생성 후, 샘플 6개 받기\n",
    "random.sample(lotto_lst, 6)"
   ]
  },
  {
   "cell_type": "markdown",
   "metadata": {},
   "source": [
    "### 2. Time 모듈"
   ]
  },
  {
   "cell_type": "code",
   "execution_count": 62,
   "metadata": {},
   "outputs": [
    {
     "data": {
      "text/plain": [
       "1593059297.0713856"
      ]
     },
     "execution_count": 62,
     "metadata": {},
     "output_type": "execute_result"
    }
   ],
   "source": [
    "import time\n",
    "time.time()"
   ]
  },
  {
   "cell_type": "code",
   "execution_count": 2,
   "metadata": {},
   "outputs": [
    {
     "name": "stdout",
     "output_type": "stream",
     "text": [
      "1\n",
      "2\n",
      "3\n",
      "4\n",
      "5\n",
      "6\n",
      "7\n",
      "8\n",
      "9\n",
      "10\n",
      "11\n",
      "12\n",
      "13\n",
      "14\n",
      "15\n",
      "16\n",
      "17\n",
      "18\n",
      "19\n",
      "20\n",
      "21\n",
      "22\n",
      "23\n",
      "24\n",
      "25\n",
      "26\n",
      "27\n",
      "28\n",
      "29\n",
      "30\n",
      "31\n",
      "32\n",
      "33\n",
      "34\n",
      "35\n",
      "36\n",
      "37\n",
      "38\n",
      "39\n",
      "40\n",
      "41\n",
      "42\n",
      "43\n",
      "44\n",
      "45\n"
     ]
    }
   ],
   "source": [
    "import time\n",
    "lotto_lst = list(range(1, 46)) \n",
    "for n in lotto_lst:\n",
    "    time.sleep(1)\n",
    "    print(n)"
   ]
  },
  {
   "cell_type": "code",
   "execution_count": null,
   "metadata": {},
   "outputs": [],
   "source": [
    "## 실습 문제 8\n",
    "\n",
    "def letter_dict(s):\n",
    "    \n",
    "    \n",
    "def max_letter(dic):\n",
    "\n",
    "    \n",
    "a = letter_dict('red apple')\n",
    "print(a)\n",
    "print(max_letter(a))"
   ]
  },
  {
   "cell_type": "markdown",
   "metadata": {},
   "source": [
    "### join() 함수의 활용"
   ]
  },
  {
   "cell_type": "code",
   "execution_count": 4,
   "metadata": {},
   "outputs": [
    {
     "data": {
      "text/plain": [
       "'redgreenblue'"
      ]
     },
     "execution_count": 4,
     "metadata": {},
     "output_type": "execute_result"
    }
   ],
   "source": [
    "colors = ['red', 'green', 'blue']\n",
    "\n",
    "\"\".join(colors)  # 리스트/문자열의 원소를 모두 이어주는 join 함수"
   ]
  },
  {
   "cell_type": "markdown",
   "metadata": {},
   "source": [
    "## List Comprehensions \n",
    "### 리스트를 for 문을 사용해서 한 줄로 만들 수 있는 파이썬만의 문법이다."
   ]
  },
  {
   "cell_type": "code",
   "execution_count": 10,
   "metadata": {},
   "outputs": [
    {
     "data": {
      "text/plain": [
       "[1, 2, 3, 4, 5, 6, 7, 8, 9, 10]"
      ]
     },
     "execution_count": 10,
     "metadata": {},
     "output_type": "execute_result"
    }
   ],
   "source": [
    "lst = [i for i in range(1, 11)]\n",
    "lst"
   ]
  },
  {
   "cell_type": "code",
   "execution_count": 11,
   "metadata": {},
   "outputs": [
    {
     "data": {
      "text/plain": [
       "[2, 4, 6, 8, 10]"
      ]
     },
     "execution_count": 11,
     "metadata": {},
     "output_type": "execute_result"
    }
   ],
   "source": [
    "lst = [i for i in range(1, 11) if i % 2 == 0] # 조건은 뒤에 if문 활용해서 달아주기\n",
    "lst"
   ]
  },
  {
   "cell_type": "code",
   "execution_count": 13,
   "metadata": {},
   "outputs": [
    {
     "data": {
      "text/plain": [
       "[4, 5, 6, 8, 10, 12, 12, 15, 18]"
      ]
     },
     "execution_count": 13,
     "metadata": {},
     "output_type": "execute_result"
    }
   ],
   "source": [
    "L1 = [1, 2, 3]\n",
    "L2 = [4, 5, 6]\n",
    "[x * y for x in L1 for y in L2]"
   ]
  },
  {
   "cell_type": "markdown",
   "metadata": {},
   "source": [
    "### zip() 함수의 활용"
   ]
  },
  {
   "cell_type": "code",
   "execution_count": 18,
   "metadata": {},
   "outputs": [
    {
     "data": {
      "text/plain": [
       "[(1, 4), (2, 5), (3, 6)]"
      ]
     },
     "execution_count": 18,
     "metadata": {},
     "output_type": "execute_result"
    }
   ],
   "source": [
    "list(zip([1,2,3],[4,5,6])) # zip() 은 동일한 개수로 이루어진 자료형을 묶어준다."
   ]
  },
  {
   "cell_type": "code",
   "execution_count": 23,
   "metadata": {},
   "outputs": [
    {
     "data": {
      "text/plain": [
       "{'one': 1, 'two': 2, 'three': 3}"
      ]
     },
     "execution_count": 23,
     "metadata": {},
     "output_type": "execute_result"
    }
   ],
   "source": [
    "L1 = ['one', 'two', 'three']\n",
    "L2 = [1, 2, 3]\n",
    "{k:v for k, v in zip(L1, L2)} # zip() 은 각 리스트"
   ]
  }
 ],
 "metadata": {
  "kernelspec": {
   "display_name": "Python 3",
   "language": "python",
   "name": "python3"
  },
  "language_info": {
   "codemirror_mode": {
    "name": "ipython",
    "version": 3
   },
   "file_extension": ".py",
   "mimetype": "text/x-python",
   "name": "python",
   "nbconvert_exporter": "python",
   "pygments_lexer": "ipython3",
   "version": "3.7.6"
  }
 },
 "nbformat": 4,
 "nbformat_minor": 4
}
