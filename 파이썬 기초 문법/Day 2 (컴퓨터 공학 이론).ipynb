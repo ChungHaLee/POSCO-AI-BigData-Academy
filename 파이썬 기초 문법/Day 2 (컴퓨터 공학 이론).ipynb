{
 "cells": [
  {
   "cell_type": "markdown",
   "metadata": {},
   "source": [
    "## 어제 배운 것 복습하기(이 필기는 발표자료로 올려서 공유)\n",
    "### 운영체제와 프로그래밍 언어(역사, 연도별: 스토리텔링 형식으로 기억)\n",
    "### 컴퓨팅 사고력\n",
    "### 추상화, 자동화의 의미\n",
    "### 디지털 트랜스포메이션: 아스키 코드(7비트, 컴퓨터와 소통가능하게 문자를 숫자로 변환), 유니코드(전세계의 모든 문자를 컴퓨터에서 일관되게 표현하고 다룰 수 있게 하는 산업 표준)와의 호환성\n",
    "### 머신러닝, 딥러닝, 인공지능\n",
    "### 컴퓨터 비전, object detection, tracking\n",
    "### NLP(자연어 처리)\n",
    "### 그것을 기반으로 해 어떤 기업에서 어떤 것을 적용해 개발하고 있는지(기업 분석, 시장 조사)\n",
    "### 전 기수 프로젝트 분석"
   ]
  },
  {
   "cell_type": "markdown",
   "metadata": {},
   "source": [
    "## 컴퓨터 공학의 역사\n",
    "### 1940년대 - 1950 년대: 앨런 튜링과 인공지능 언어의 첫 등장\n",
    "### 1970년대: 운영체제(사용자 명령을 받아 그를 수행해 사용자와 상호 소통할 수 있게 해주는 집합)와 프로그래밍 언어 등장\n",
    "#### - 1969년 UNIX 유닉스: 다중 사용자 방식의 시분할(time-sharing)운영체제 --> 지금 없는 프로그래밍 언어를 개발하자!\n",
    "#### - 1972년 C 언어(structured programming, Divide and Conquer): OS 하드 웨어를 컨트롤할 수 있는 모든 문법이 포함되어있는 언어를 개발함, 컴퓨터 관점에서의 디자인 ㅇ, 객체 지향 프로그래밍(특징 찾기)\n",
    "#### - 하드웨어의 개발과 가정에 보급(개인 PC 의 보편화) + 한 사람을 위한 운영체제의 필요성 대두 --> IBM, MS 회사 설립\n",
    "### 1980년대: 기존의 TUI(Text User Interface) 로는 한계 존재 --> GUI(Graphical User Interface, 모니터로 사용자가 컨트롤) 의 필요성 대두\n",
    "#### - 1981년: 도스의 등장\n",
    "#### - 1983년: C++ 언어: 객체 지향 프로그래밍(사람의 시각과 관점에서 설계하자는 아이디어)\n",
    "### 1990년대: 개인 PC 에서도 서버의 역할을 할 수 있는 OS 필요 --> 그러나 유닉스는 비쌌음 + 분산 네트워킹의 발전과 인터넷 발전 + 오픈 소스의 개념 등장\n",
    "#### - 1991년~: 운영체제 리눅스(무료로 보급) 개발, 파이썬(직관적, 호환성 높아서 웹, 앱, 인공지능 가능) 개발, JAVA(웹 개발) 개발\n",
    "### 2000년대: 모바일(무선기기)의 등장 --> 모바일 기기 안에 OS 가 필요해졌음\n",
    "#### - 2007년: 리눅스 커널(오픈소스) 기반으로 한 구글에서 만든 휴대용 장치를 위한 운영체제\n",
    "#### 구글: 포털 사이트를 가지고 있었기 때문에 데이터를 가지고 있었음, OS 위에 올라가는 앱이 중요해졌음, 앱의 활성화\n",
    "#### 스크래치의 등장 --> 엔트리(entry)\n",
    "#### cf. 컴파일러: 프로그램을 돌리기 위해 필요, 클라우드 상에 있음. \n",
    "### 2010년대: 데이터의 증가, 하드웨어의 발전, 저장공간의 필요성 대두 --> 아마존, 구글 클라우드 사업 확장\n",
    "#### 머신러닝, 딥러닝 데이터 학습을 위해 GPU 등장\n",
    "#### 딥러닝 프레임워크/라이브러리/플랫폼(텐서플로우, 파이토치, 케라스) 개발"
   ]
  },
  {
   "cell_type": "markdown",
   "metadata": {},
   "source": [
    "## 파이썬의 특징\n",
    "### 1) 인터프리터 언어: 한 줄마다 읽음\n",
    "#### cf. 컴파일러: 고급 언어로 되어있는 것을 중간에서 번역해주는 소프트웨어(컴파일 방식/인터프리터 방식)\n",
    "#### 컴파일 방식: 하나씩 다 작성, 통째로 돌리기/인터프리터 방식: 한 줄씩 작성, 한 줄씩 돌리기\n",
    "### 2) 다이나믹 타이핑(동적 타이핑) 언어: 자료형을 정하지 않아도 되는 언어. \n",
    "#### 데이터를 저장하고 처리하는 것이 중요한데, 데이터를 저장할 때  type 이 있어야 함 --> 파이썬은 type 을 정하지 않아도 됨.\n",
    "### 3) C 언어는 main 함수가 반드시 있어야 하는 반면, 파이썬은 없어도 됨.\n",
    "### 4) 파이썬은 여러 개의 프로그래밍 스타일을 포괄하고 있다\n",
    "#### 절차 지향 프로그래밍(함수-함수-함수-...-시작), 객체 지향 프로그래밍(클래스), 함수형 프로그래밍 모두 가능\n",
    "### 5) 파이썬은 전부 다 객체이다.\n",
    "\n",
    "\n"
   ]
  },
  {
   "cell_type": "markdown",
   "metadata": {},
   "source": [
    "## 함수의 구조"
   ]
  },
  {
   "cell_type": "markdown",
   "metadata": {},
   "source": [
    "## 함수란?\n",
    "### 독립적으로 수행하는 프로그램 단위로 특정 작업을 수행하는 명령어의 모음에 이름을 붙인 것"
   ]
  },
  {
   "cell_type": "code",
   "execution_count": 2,
   "metadata": {},
   "outputs": [],
   "source": [
    "# cf. C 언어\n",
    "### call by value: 함수 이름의 정체 = 주소. 원본을 두고 복사본을 만든다.\n",
    "### 포인터 변수: *P = 연산자"
   ]
  },
  {
   "cell_type": "markdown",
   "metadata": {},
   "source": [
    "### 파이썬 객체: 파이썬은 모두 객체이므로 변경 여부 관리가 중요하다. 객체가 생성되고 함수 파라미터로 전달될 때에도 변경이 가능한 객체와 불가능한 객체를 동일한 방식으로 관리한다.\n",
    "#### Immutable(값 객체, 변하지 않는): 수치값, 문자열, 튜플\n",
    "#### Mutable(참조 객체, 변하는): 리스트, 딕셔너리, 집합형"
   ]
  },
  {
   "cell_type": "markdown",
   "metadata": {},
   "source": [
    "### 실습) 성적 처리를 위한 주요 함수 만들기"
   ]
  },
  {
   "cell_type": "code",
   "execution_count": 3,
   "metadata": {},
   "outputs": [
    {
     "data": {
      "text/plain": [
       "5"
      ]
     },
     "execution_count": 3,
     "metadata": {},
     "output_type": "execute_result"
    }
   ],
   "source": [
    "def add(a, b):\n",
    "    return a + b\n",
    "\n",
    "add(2, 3)"
   ]
  },
  {
   "cell_type": "code",
   "execution_count": null,
   "metadata": {},
   "outputs": [],
   "source": []
  },
  {
   "cell_type": "code",
   "execution_count": null,
   "metadata": {},
   "outputs": [],
   "source": []
  },
  {
   "cell_type": "code",
   "execution_count": null,
   "metadata": {},
   "outputs": [],
   "source": []
  },
  {
   "cell_type": "code",
   "execution_count": null,
   "metadata": {},
   "outputs": [],
   "source": []
  },
  {
   "cell_type": "code",
   "execution_count": null,
   "metadata": {},
   "outputs": [],
   "source": []
  },
  {
   "cell_type": "code",
   "execution_count": null,
   "metadata": {},
   "outputs": [],
   "source": []
  }
 ],
 "metadata": {
  "kernelspec": {
   "display_name": "Python 3",
   "language": "python",
   "name": "python3"
  },
  "language_info": {
   "codemirror_mode": {
    "name": "ipython",
    "version": 3
   },
   "file_extension": ".py",
   "mimetype": "text/x-python",
   "name": "python",
   "nbconvert_exporter": "python",
   "pygments_lexer": "ipython3",
   "version": "3.7.6"
  }
 },
 "nbformat": 4,
 "nbformat_minor": 4
}
